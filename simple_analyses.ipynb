{
 "cells": [
  {
   "cell_type": "markdown",
   "id": "e4e9d3d3",
   "metadata": {},
   "source": [
    "Elizabeth Li 4/11/2025\n",
    "\n",
    "Simple analyses for brain files ratings\n",
    "\n",
    "\n",
    "1 = brain structure looks good\n",
    "\n",
    "2 = brain structure looks ok\n",
    "\n",
    "3 = brain structure looks unusable"
   ]
  },
  {
   "cell_type": "code",
   "execution_count": 1,
   "id": "eaf877a2",
   "metadata": {},
   "outputs": [],
   "source": [
    "import pandas as pd\n",
    "import matplotlib as plt\n",
    "import re"
   ]
  },
  {
   "cell_type": "code",
   "execution_count": null,
   "id": "478f5d0e",
   "metadata": {},
   "outputs": [],
   "source": [
    "# Load CSV file\n",
    "df = pd.read_csv(\"/Users/elizabethli/vscode/haxbyLab/structure-viewer/ratings.csv\")\n",
    "\n",
    "# Extract the dataset number from filename (e.g., from \"ds000221_010017_pial.vtp\" get \"ds000221\")\n",
    "df['dataset'] = df['filename'].apply(lambda x: re.search(r'(ds\\d+)', x).group(0) if re.search(r'(ds\\d+)', x) else None)"
   ]
  },
  {
   "cell_type": "code",
   "execution_count": null,
   "id": "b7962bf1",
   "metadata": {},
   "outputs": [
    {
     "name": "stdout",
     "output_type": "stream",
     "text": [
      "1 = 66.50%, 2 = 18.84%, 3 = 14.66%\n",
      "\n",
      "\n",
      "Rating Percentages per Dataset:\n",
      "rating         1      2       3\n",
      "dataset                        \n",
      "ds000031    0.00   0.00  100.00\n",
      "ds000201   86.75  10.84    2.41\n",
      "ds000221   53.01  44.26    2.73\n",
      "ds000224   60.00  20.00   20.00\n",
      "ds000244   90.91   9.09    0.00\n",
      "...          ...    ...     ...\n",
      "ds005664  100.00   0.00    0.00\n",
      "ds005713    0.00   7.14   92.86\n",
      "ds005733    0.00   0.00  100.00\n",
      "ds005752   96.81   1.06    2.13\n",
      "ds005874   89.66  10.34    0.00\n",
      "\n",
      "[82 rows x 3 columns]\n",
      "\n",
      "\n",
      "Rating Percentages for ds000221\n",
      "1 = 53.01%, 2 = 44.26%, 3 = 2.73%\n"
     ]
    }
   ],
   "source": [
    "# rating percentages overall\n",
    "# what percent of files were rated 1, what percent 2, what percent 3\n",
    "overall_percent = df['rating'].value_counts(normalize=True) * 100\n",
    "print(f\"1 ={overall_percent.get(1,0): .2f}%, 2 ={overall_percent.get(2,0): .2f}%, 3 ={overall_percent.get(3,0): .2f}%\")\n",
    "print(\"\\n\")\n",
    "\n",
    "# rating percentages for each dataset\n",
    "grouped = df.groupby('dataset')['rating'].value_counts(normalize=True).unstack(fill_value=0) * 100\n",
    "grouped = grouped.round(2)\n",
    "print(\"Rating Percentages per Dataset:\")\n",
    "print(grouped)\n",
    "print(\"\\n\")\n",
    "\n",
    "dataset_name = \"ds000221\"                                              #specify the dataset for rating percentages\n",
    "if dataset_name in grouped.index:\n",
    "    percentages = grouped.loc[dataset_name]\n",
    "    print(f\"Rating Percentages for {dataset_name}\")\n",
    "    print(f\"1 = {percentages.get(1, 0):.2f}%, 2 = {percentages.get(2, 0):.2f}%, 3 = {percentages.get(3, 0):.2f}%\")\n",
    "else:\n",
    "    print(f\"Dataset {dataset_name} not found.\")"
   ]
  },
  {
   "cell_type": "code",
   "execution_count": 29,
   "id": "c41774a3",
   "metadata": {},
   "outputs": [
    {
     "name": "stdout",
     "output_type": "stream",
     "text": [
      "\n",
      "\n",
      "Best datasets:\n",
      "rating         1     2     3\n",
      "dataset                     \n",
      "ds004192  100.00  0.00  0.00\n",
      "ds005134  100.00  0.00  0.00\n",
      "ds004271  100.00  0.00  0.00\n",
      "ds002766  100.00  0.00  0.00\n",
      "ds002737  100.00  0.00  0.00\n",
      "ds004473  100.00  0.00  0.00\n",
      "ds004556  100.00  0.00  0.00\n",
      "ds004557  100.00  0.00  0.00\n",
      "ds004958  100.00  0.00  0.00\n",
      "ds005118  100.00  0.00  0.00\n",
      "ds005365  100.00  0.00  0.00\n",
      "ds001499  100.00  0.00  0.00\n",
      "ds005603  100.00  0.00  0.00\n",
      "ds005664  100.00  0.00  0.00\n",
      "ds005604   97.50  2.50  0.00\n",
      "ds005752   96.81  1.06  2.13\n",
      "ds005364   95.83  2.08  2.08\n",
      "\n",
      "\n",
      "Worst datasets:\n",
      "rating       1     2       3\n",
      "dataset                     \n",
      "ds000031  0.00  0.00  100.00\n",
      "ds005733  0.00  0.00  100.00\n",
      "ds005063  0.00  0.00  100.00\n",
      "ds001595  0.00  0.00  100.00\n",
      "ds004787  0.00  0.00  100.00\n",
      "ds004498  0.00  0.00  100.00\n",
      "ds004692  0.00  0.00  100.00\n",
      "ds003192  0.00  0.00  100.00\n",
      "ds005713  0.00  7.14   92.86\n",
      "ds004884  7.76  5.94   86.30\n"
     ]
    }
   ],
   "source": [
    "#don't automatically print dataset dimensions\n",
    "pd.set_option('display.show_dimensions', False)\n",
    "print(\"\\n\")\n",
    "\n",
    "#best dataset (highest percentage of 1s)\n",
    "best_datasets = grouped.sort_values(by=1, ascending=False)\n",
    "print(\"Best datasets:\")\n",
    "print(best_datasets.head(17))\n",
    "print(\"\\n\")\n",
    "\n",
    "#worst datset(high percentage of 3s)\n",
    "worst_datasets = grouped.sort_values(by=3, ascending=False)\n",
    "print(\"Worst datasets:\")\n",
    "print(worst_datasets.head(10))"
   ]
  },
  {
   "cell_type": "markdown",
   "id": "0d732d05",
   "metadata": {},
   "source": []
  }
 ],
 "metadata": {
  "kernelspec": {
   "display_name": ".venv",
   "language": "python",
   "name": "python3"
  },
  "language_info": {
   "codemirror_mode": {
    "name": "ipython",
    "version": 3
   },
   "file_extension": ".py",
   "mimetype": "text/x-python",
   "name": "python",
   "nbconvert_exporter": "python",
   "pygments_lexer": "ipython3",
   "version": "3.9.6"
  }
 },
 "nbformat": 4,
 "nbformat_minor": 5
}
